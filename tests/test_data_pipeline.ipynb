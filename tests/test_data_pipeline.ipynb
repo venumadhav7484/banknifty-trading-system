{
 "cells": [
  {
   "cell_type": "code",
   "execution_count": 2,
   "metadata": {},
   "outputs": [
    {
     "ename": "ModuleNotFoundError",
     "evalue": "No module named 'data'",
     "output_type": "error",
     "traceback": [
      "\u001b[31m---------------------------------------------------------------------------\u001b[39m",
      "\u001b[31mModuleNotFoundError\u001b[39m                       Traceback (most recent call last)",
      "\u001b[36mCell\u001b[39m\u001b[36m \u001b[39m\u001b[32mIn[2]\u001b[39m\u001b[32m, line 1\u001b[39m\n\u001b[32m----> \u001b[39m\u001b[32m1\u001b[39m \u001b[38;5;28;01mfrom\u001b[39;00m\u001b[38;5;250m \u001b[39m\u001b[34;01mdata\u001b[39;00m\u001b[34;01m.\u001b[39;00m\u001b[34;01mfetch_futures_data\u001b[39;00m\u001b[38;5;250m \u001b[39m\u001b[38;5;28;01mimport\u001b[39;00m fetch_futures_data\n\u001b[32m      2\u001b[39m \u001b[38;5;28;01mfrom\u001b[39;00m\u001b[38;5;250m \u001b[39m\u001b[34;01mdata\u001b[39;00m\u001b[34;01m.\u001b[39;00m\u001b[34;01mfetch_vix_data\u001b[39;00m\u001b[38;5;250m \u001b[39m\u001b[38;5;28;01mimport\u001b[39;00m fetch_vix_data\n\u001b[32m      4\u001b[39m \u001b[38;5;66;03m# Test fetching Bank Nifty data\u001b[39;00m\n",
      "\u001b[31mModuleNotFoundError\u001b[39m: No module named 'data'"
     ]
    }
   ],
   "source": [
    "from data.fetch_futures_data import fetch_futures_data\n",
    "from data.fetch_vix_data import fetch_vix_data\n",
    "\n",
    "# Test fetching Bank Nifty data\n",
    "bnf_data = fetch_futures_data(symbol=\"BANKNIFTY\", start_date=\"2023-01-10\", end_date=\"2023-01-20\")\n",
    "print(\"📊 Bank Nifty Data Sample:\")\n",
    "print(bnf_data.head())\n",
    "\n",
    "# Test fetching VIX data\n",
    "vix_data = fetch_vix_data(start_date=\"2023-01-10\", end_date=\"2023-01-20\")\n",
    "print(\"\\n🌪️ VIX Data Sample:\")\n",
    "print(vix_data.head())\n",
    "\n",
    "# Test VIX Normalization\n",
    "from data.fetch_vix_data import normalize_vix\n",
    "vix_today = vix_data['vix'].iloc[0]\n",
    "adjusted_multiplier = normalize_vix(vix_today)\n",
    "print(f\"\\n⚙️ Normalized Multiplier for VIX {vix_today}: {adjusted_multiplier:.2f}\")\n"
   ]
  }
 ],
 "metadata": {
  "kernelspec": {
   "display_name": "venv",
   "language": "python",
   "name": "python3"
  },
  "language_info": {
   "codemirror_mode": {
    "name": "ipython",
    "version": 3
   },
   "file_extension": ".py",
   "mimetype": "text/x-python",
   "name": "python",
   "nbconvert_exporter": "python",
   "pygments_lexer": "ipython3",
   "version": "3.13.2"
  }
 },
 "nbformat": 4,
 "nbformat_minor": 2
}
